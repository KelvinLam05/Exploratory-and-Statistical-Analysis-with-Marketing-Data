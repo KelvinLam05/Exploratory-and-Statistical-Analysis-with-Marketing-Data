{
  "nbformat": 4,
  "nbformat_minor": 0,
  "metadata": {
    "colab": {
      "name": "cleaning_primark_reviews.ipynb",
      "provenance": [],
      "collapsed_sections": [],
      "authorship_tag": "ABX9TyOmneiEmCAi6M+DxNuXJ3T9",
      "include_colab_link": true
    },
    "kernelspec": {
      "name": "python3",
      "display_name": "Python 3"
    },
    "language_info": {
      "name": "python"
    }
  },
  "cells": [
    {
      "cell_type": "markdown",
      "metadata": {
        "id": "view-in-github",
        "colab_type": "text"
      },
      "source": [
        "<a href=\"https://colab.research.google.com/github/KelvinLam05/cleaning_primark_reviews/blob/main/cleaning_primark_reviews.ipynb\" target=\"_parent\"><img src=\"https://colab.research.google.com/assets/colab-badge.svg\" alt=\"Open In Colab\"/></a>"
      ]
    },
    {
      "cell_type": "markdown",
      "source": [
        "**Web Scraper**"
      ],
      "metadata": {
        "id": "H1a1rtlNNnV0"
      }
    },
    {
      "cell_type": "markdown",
      "source": [
        "Web Scraper is a chrome browser extension built for data extraction from web pages. Using this extension we can create a plan (sitemap) how a web site should be traversed and what should be extracted. Scraped data later can be exported as CSV."
      ],
      "metadata": {
        "id": "RxclM92NNi1q"
      }
    },
    {
      "cell_type": "markdown",
      "source": [
        "**Sitemap of scraped data from Trustpilot web page below:**"
      ],
      "metadata": {
        "id": "6cT6Zmr3L4C1"
      }
    },
    {
      "cell_type": "markdown",
      "source": [
        "`{\"_id\":\"primark_reviews\",\"startUrl\":[\"https://www.trustpilot.com/review/www.primark.co.uk?page=[2-54]\"],\"selectors\":[{\"id\":\"item_reviewed\",\"parentSelectors\":[\"_root\"],\"type\":\"SelectorText\",\"selector\":\"li.breadcrumb_breadcrumb__lJO__:nth-of-type(4)\",\"multiple\":false,\"delay\":0,\"regex\":\"\"},{\"id\":\"review_wrapper\",\"parentSelectors\":[\"_root\"],\"type\":\"SelectorElement\",\"selector\":\"article\",\"multiple\":true,\"delay\":0},{\"id\":\"headline\",\"parentSelectors\":[\"review_wrapper\"],\"type\":\"SelectorText\",\"selector\":\"a.styles_linkwrapper__73Tdy\",\"multiple\":false,\"delay\":0,\"regex\":\"\"},{\"id\":\"body\",\"parentSelectors\":[\"review_wrapper\"],\"type\":\"SelectorText\",\"selector\":\"p\",\"multiple\":false,\"delay\":0,\"regex\":\"\"},{\"id\":\"rating\",\"parentSelectors\":[\"review_wrapper\"],\"type\":\"SelectorElementAttribute\",\"selector\":\".star-rating_starRating__4rrcf img\",\"multiple\":false,\"delay\":0,\"extractAttribute\":\"alt\"},{\"id\":\"date_published\",\"parentSelectors\":[\"review_wrapper\"],\"type\":\"SelectorText\",\"selector\":\"time\",\"multiple\":false,\"delay\":0,\"regex\":\"\"}]}`"
      ],
      "metadata": {
        "id": "-nk8yUJCMoMJ"
      }
    },
    {
      "cell_type": "markdown",
      "source": [
        "**Load packages and data**"
      ],
      "metadata": {
        "id": "k-XBqMFUQXAR"
      }
    },
    {
      "cell_type": "code",
      "execution_count": 22,
      "metadata": {
        "id": "0NPPJQ3TZX1Q"
      },
      "outputs": [],
      "source": [
        "# Importing libraries\n",
        "import pandas as pd\n",
        "import numpy as np"
      ]
    },
    {
      "cell_type": "code",
      "source": [
        "# Load dataset\n",
        "df = pd.read_csv('/content/customer_reviews_of_the_primark_online.csv')"
      ],
      "metadata": {
        "id": "ciPZwlLiZnrv"
      },
      "execution_count": 23,
      "outputs": []
    },
    {
      "cell_type": "code",
      "source": [
        "# Examine the data\n",
        "df.head()"
      ],
      "metadata": {
        "colab": {
          "base_uri": "https://localhost:8080/",
          "height": 486
        },
        "id": "91-BQMyOaIVU",
        "outputId": "10420939-64de-4a64-aca6-46975e3cb252"
      },
      "execution_count": 24,
      "outputs": [
        {
          "output_type": "execute_result",
          "data": {
            "text/plain": [
              "  web-scraper-order                              web-scraper-start-url  \\\n",
              "0   1647082407-4370  https://www.trustpilot.com/review/www.primark....   \n",
              "1   1647082345-4114  https://www.trustpilot.com/review/www.primark....   \n",
              "2   1647082387-4292  https://www.trustpilot.com/review/www.primark....   \n",
              "3   1647082387-4293  https://www.trustpilot.com/review/www.primark....   \n",
              "4   1647082151-3370  https://www.trustpilot.com/review/www.primark....   \n",
              "\n",
              "  item_reviewed                                  headline  \\\n",
              "0       Primark  Primark in Sutton Surrey has the rudest…   \n",
              "1       Primark       It would seem I'm not on my own in…   \n",
              "2       Primark    Coercing our tenagers into a untested…   \n",
              "3       Primark  Recently bought to packs of boxers from…   \n",
              "4       Primark                                 Very good   \n",
              "\n",
              "                                                body                  rating  \\\n",
              "0  Primark in Sutton Surrey has the rudest manage...  Rated 1 out of 5 stars   \n",
              "1  It would seem I'm not on my own in losing a re...  Rated 1 out of 5 stars   \n",
              "2  Coercing our tenagers into a untested that has...  Rated 1 out of 5 stars   \n",
              "3  Recently bought to packs of boxers from them. ...  Rated 1 out of 5 stars   \n",
              "4  Competative prices\\n\\nShops are messy, like a ...  Rated 3 out of 5 stars   \n",
              "\n",
              "        date_published  \n",
              "0         Dec 26, 2021  \n",
              "1  Updated Oct 8, 2020  \n",
              "2         Aug 23, 2021  \n",
              "3         Aug 22, 2021  \n",
              "4         Sep 16, 2011  "
            ],
            "text/html": [
              "\n",
              "  <div id=\"df-313ea9ea-8a38-4134-9530-bd3a27dabcc4\">\n",
              "    <div class=\"colab-df-container\">\n",
              "      <div>\n",
              "<style scoped>\n",
              "    .dataframe tbody tr th:only-of-type {\n",
              "        vertical-align: middle;\n",
              "    }\n",
              "\n",
              "    .dataframe tbody tr th {\n",
              "        vertical-align: top;\n",
              "    }\n",
              "\n",
              "    .dataframe thead th {\n",
              "        text-align: right;\n",
              "    }\n",
              "</style>\n",
              "<table border=\"1\" class=\"dataframe\">\n",
              "  <thead>\n",
              "    <tr style=\"text-align: right;\">\n",
              "      <th></th>\n",
              "      <th>web-scraper-order</th>\n",
              "      <th>web-scraper-start-url</th>\n",
              "      <th>item_reviewed</th>\n",
              "      <th>headline</th>\n",
              "      <th>body</th>\n",
              "      <th>rating</th>\n",
              "      <th>date_published</th>\n",
              "    </tr>\n",
              "  </thead>\n",
              "  <tbody>\n",
              "    <tr>\n",
              "      <th>0</th>\n",
              "      <td>1647082407-4370</td>\n",
              "      <td>https://www.trustpilot.com/review/www.primark....</td>\n",
              "      <td>Primark</td>\n",
              "      <td>Primark in Sutton Surrey has the rudest…</td>\n",
              "      <td>Primark in Sutton Surrey has the rudest manage...</td>\n",
              "      <td>Rated 1 out of 5 stars</td>\n",
              "      <td>Dec 26, 2021</td>\n",
              "    </tr>\n",
              "    <tr>\n",
              "      <th>1</th>\n",
              "      <td>1647082345-4114</td>\n",
              "      <td>https://www.trustpilot.com/review/www.primark....</td>\n",
              "      <td>Primark</td>\n",
              "      <td>It would seem I'm not on my own in…</td>\n",
              "      <td>It would seem I'm not on my own in losing a re...</td>\n",
              "      <td>Rated 1 out of 5 stars</td>\n",
              "      <td>Updated Oct 8, 2020</td>\n",
              "    </tr>\n",
              "    <tr>\n",
              "      <th>2</th>\n",
              "      <td>1647082387-4292</td>\n",
              "      <td>https://www.trustpilot.com/review/www.primark....</td>\n",
              "      <td>Primark</td>\n",
              "      <td>Coercing our tenagers into a untested…</td>\n",
              "      <td>Coercing our tenagers into a untested that has...</td>\n",
              "      <td>Rated 1 out of 5 stars</td>\n",
              "      <td>Aug 23, 2021</td>\n",
              "    </tr>\n",
              "    <tr>\n",
              "      <th>3</th>\n",
              "      <td>1647082387-4293</td>\n",
              "      <td>https://www.trustpilot.com/review/www.primark....</td>\n",
              "      <td>Primark</td>\n",
              "      <td>Recently bought to packs of boxers from…</td>\n",
              "      <td>Recently bought to packs of boxers from them. ...</td>\n",
              "      <td>Rated 1 out of 5 stars</td>\n",
              "      <td>Aug 22, 2021</td>\n",
              "    </tr>\n",
              "    <tr>\n",
              "      <th>4</th>\n",
              "      <td>1647082151-3370</td>\n",
              "      <td>https://www.trustpilot.com/review/www.primark....</td>\n",
              "      <td>Primark</td>\n",
              "      <td>Very good</td>\n",
              "      <td>Competative prices\\n\\nShops are messy, like a ...</td>\n",
              "      <td>Rated 3 out of 5 stars</td>\n",
              "      <td>Sep 16, 2011</td>\n",
              "    </tr>\n",
              "  </tbody>\n",
              "</table>\n",
              "</div>\n",
              "      <button class=\"colab-df-convert\" onclick=\"convertToInteractive('df-313ea9ea-8a38-4134-9530-bd3a27dabcc4')\"\n",
              "              title=\"Convert this dataframe to an interactive table.\"\n",
              "              style=\"display:none;\">\n",
              "        \n",
              "  <svg xmlns=\"http://www.w3.org/2000/svg\" height=\"24px\"viewBox=\"0 0 24 24\"\n",
              "       width=\"24px\">\n",
              "    <path d=\"M0 0h24v24H0V0z\" fill=\"none\"/>\n",
              "    <path d=\"M18.56 5.44l.94 2.06.94-2.06 2.06-.94-2.06-.94-.94-2.06-.94 2.06-2.06.94zm-11 1L8.5 8.5l.94-2.06 2.06-.94-2.06-.94L8.5 2.5l-.94 2.06-2.06.94zm10 10l.94 2.06.94-2.06 2.06-.94-2.06-.94-.94-2.06-.94 2.06-2.06.94z\"/><path d=\"M17.41 7.96l-1.37-1.37c-.4-.4-.92-.59-1.43-.59-.52 0-1.04.2-1.43.59L10.3 9.45l-7.72 7.72c-.78.78-.78 2.05 0 2.83L4 21.41c.39.39.9.59 1.41.59.51 0 1.02-.2 1.41-.59l7.78-7.78 2.81-2.81c.8-.78.8-2.07 0-2.86zM5.41 20L4 18.59l7.72-7.72 1.47 1.35L5.41 20z\"/>\n",
              "  </svg>\n",
              "      </button>\n",
              "      \n",
              "  <style>\n",
              "    .colab-df-container {\n",
              "      display:flex;\n",
              "      flex-wrap:wrap;\n",
              "      gap: 12px;\n",
              "    }\n",
              "\n",
              "    .colab-df-convert {\n",
              "      background-color: #E8F0FE;\n",
              "      border: none;\n",
              "      border-radius: 50%;\n",
              "      cursor: pointer;\n",
              "      display: none;\n",
              "      fill: #1967D2;\n",
              "      height: 32px;\n",
              "      padding: 0 0 0 0;\n",
              "      width: 32px;\n",
              "    }\n",
              "\n",
              "    .colab-df-convert:hover {\n",
              "      background-color: #E2EBFA;\n",
              "      box-shadow: 0px 1px 2px rgba(60, 64, 67, 0.3), 0px 1px 3px 1px rgba(60, 64, 67, 0.15);\n",
              "      fill: #174EA6;\n",
              "    }\n",
              "\n",
              "    [theme=dark] .colab-df-convert {\n",
              "      background-color: #3B4455;\n",
              "      fill: #D2E3FC;\n",
              "    }\n",
              "\n",
              "    [theme=dark] .colab-df-convert:hover {\n",
              "      background-color: #434B5C;\n",
              "      box-shadow: 0px 1px 3px 1px rgba(0, 0, 0, 0.15);\n",
              "      filter: drop-shadow(0px 1px 2px rgba(0, 0, 0, 0.3));\n",
              "      fill: #FFFFFF;\n",
              "    }\n",
              "  </style>\n",
              "\n",
              "      <script>\n",
              "        const buttonEl =\n",
              "          document.querySelector('#df-313ea9ea-8a38-4134-9530-bd3a27dabcc4 button.colab-df-convert');\n",
              "        buttonEl.style.display =\n",
              "          google.colab.kernel.accessAllowed ? 'block' : 'none';\n",
              "\n",
              "        async function convertToInteractive(key) {\n",
              "          const element = document.querySelector('#df-313ea9ea-8a38-4134-9530-bd3a27dabcc4');\n",
              "          const dataTable =\n",
              "            await google.colab.kernel.invokeFunction('convertToInteractive',\n",
              "                                                     [key], {});\n",
              "          if (!dataTable) return;\n",
              "\n",
              "          const docLinkHtml = 'Like what you see? Visit the ' +\n",
              "            '<a target=\"_blank\" href=https://colab.research.google.com/notebooks/data_table.ipynb>data table notebook</a>'\n",
              "            + ' to learn more about interactive tables.';\n",
              "          element.innerHTML = '';\n",
              "          dataTable['output_type'] = 'display_data';\n",
              "          await google.colab.output.renderOutput(dataTable, element);\n",
              "          const docLink = document.createElement('div');\n",
              "          docLink.innerHTML = docLinkHtml;\n",
              "          element.appendChild(docLink);\n",
              "        }\n",
              "      </script>\n",
              "    </div>\n",
              "  </div>\n",
              "  "
            ]
          },
          "metadata": {},
          "execution_count": 24
        }
      ]
    },
    {
      "cell_type": "code",
      "source": [
        "# Overview of all variables, their datatypes\n",
        "df.info()"
      ],
      "metadata": {
        "colab": {
          "base_uri": "https://localhost:8080/"
        },
        "id": "0vop_HQ8aLmh",
        "outputId": "c079b5e9-f9fb-4d4e-c615-476c1e987e3c"
      },
      "execution_count": 25,
      "outputs": [
        {
          "output_type": "stream",
          "name": "stdout",
          "text": [
            "<class 'pandas.core.frame.DataFrame'>\n",
            "RangeIndex: 1059 entries, 0 to 1058\n",
            "Data columns (total 7 columns):\n",
            " #   Column                 Non-Null Count  Dtype \n",
            "---  ------                 --------------  ----- \n",
            " 0   web-scraper-order      1059 non-null   object\n",
            " 1   web-scraper-start-url  1059 non-null   object\n",
            " 2   item_reviewed          1059 non-null   object\n",
            " 3   headline               1059 non-null   object\n",
            " 4   body                   1043 non-null   object\n",
            " 5   rating                 1059 non-null   object\n",
            " 6   date_published         1059 non-null   object\n",
            "dtypes: object(7)\n",
            "memory usage: 58.0+ KB\n"
          ]
        }
      ]
    },
    {
      "cell_type": "markdown",
      "source": [
        "**Pre-processing**"
      ],
      "metadata": {
        "id": "bkw5OrKELQIb"
      }
    },
    {
      "cell_type": "markdown",
      "source": [
        "We will concatenate the headline and body columns of the Pandas dataframe into a single column called text."
      ],
      "metadata": {
        "id": "dVXt0XiEDFGU"
      }
    },
    {
      "cell_type": "code",
      "source": [
        "df['text'] = df['headline'] + ' ' + df['body']"
      ],
      "metadata": {
        "id": "V3M7txZvaSO2"
      },
      "execution_count": 26,
      "outputs": []
    },
    {
      "cell_type": "code",
      "source": [
        "# Extract publisher from the column web-scraper-start-url\n",
        "df['publisher'] = df['web-scraper-start-url'].str.split('.').str[1]"
      ],
      "metadata": {
        "id": "SFRXMLWIGk7X"
      },
      "execution_count": 27,
      "outputs": []
    },
    {
      "cell_type": "code",
      "source": [
        "# Drop unwanted columns\n",
        "df.drop(['web-scraper-order', 'web-scraper-start-url', 'headline', 'body'], axis = 1, inplace = True)"
      ],
      "metadata": {
        "id": "AM9H999vabBR"
      },
      "execution_count": 28,
      "outputs": []
    },
    {
      "cell_type": "code",
      "source": [
        "# Checking for missing values\n",
        "df.isnull().sum().sort_values(ascending = False)"
      ],
      "metadata": {
        "colab": {
          "base_uri": "https://localhost:8080/"
        },
        "id": "WsVFkLOvRZTI",
        "outputId": "5bf9ce50-e038-4295-8ac3-8ff3db596ec3"
      },
      "execution_count": 29,
      "outputs": [
        {
          "output_type": "execute_result",
          "data": {
            "text/plain": [
              "text              16\n",
              "item_reviewed      0\n",
              "rating             0\n",
              "date_published     0\n",
              "publisher          0\n",
              "dtype: int64"
            ]
          },
          "metadata": {},
          "execution_count": 29
        }
      ]
    },
    {
      "cell_type": "code",
      "source": [
        "# Drop all the rows with the NaN values\n",
        "df = df.dropna()"
      ],
      "metadata": {
        "id": "PeIaiB4xRap0"
      },
      "execution_count": 30,
      "outputs": []
    },
    {
      "cell_type": "code",
      "source": [
        "# Reset the index\n",
        "df = df.reset_index(drop = True)"
      ],
      "metadata": {
        "id": "a-SNR8w-UQVy"
      },
      "execution_count": 31,
      "outputs": []
    },
    {
      "cell_type": "code",
      "source": [
        "# Extract rating from string\n",
        "df['rating'] = df['rating'].str.slice(6, 7)"
      ],
      "metadata": {
        "id": "43dc_6dDa2Dt"
      },
      "execution_count": 32,
      "outputs": []
    },
    {
      "cell_type": "code",
      "source": [
        "# Convert the rating column to an integer\n",
        "df['rating'] = df['rating'].astype(int)"
      ],
      "metadata": {
        "id": "SqvPB6Z0DSP9"
      },
      "execution_count": 33,
      "outputs": []
    },
    {
      "cell_type": "code",
      "source": [
        "# Remove substring from the date_published column\n",
        "df['date_published'] = df['date_published'].str.replace('Updated', '')"
      ],
      "metadata": {
        "id": "ydeRLPGydB7l"
      },
      "execution_count": 34,
      "outputs": []
    },
    {
      "cell_type": "code",
      "source": [
        "# Convert month names to numbers\n",
        "df['date_published'] = pd.to_datetime(df['date_published']).dt.date"
      ],
      "metadata": {
        "id": "00YLhW9SbV1M"
      },
      "execution_count": 35,
      "outputs": []
    },
    {
      "cell_type": "markdown",
      "source": [
        "To change a string or object data type to a datetime or datetime64[ns] data type we can use the Pandas to_datetime( ) function. "
      ],
      "metadata": {
        "id": "Sz0tU3aJJvIy"
      }
    },
    {
      "cell_type": "code",
      "source": [
        "df['date_published'] = pd.to_datetime(df['date_published'])"
      ],
      "metadata": {
        "id": "4G3ZJsrsaVuM"
      },
      "execution_count": 36,
      "outputs": []
    },
    {
      "cell_type": "code",
      "source": [
        "# Change the order of the Pandas DataFrame columns\n",
        "df.insert(0, 'text', df.pop('text'))\n",
        "df.insert(1, 'rating', df.pop('rating'))\n",
        "df.insert(3, 'publisher', df.pop('publisher'))"
      ],
      "metadata": {
        "id": "2JLNinD1rKIc"
      },
      "execution_count": 37,
      "outputs": []
    },
    {
      "cell_type": "markdown",
      "source": [
        "To confirm that we have successfully preprocessed our data, we can run head( ) and info( ). "
      ],
      "metadata": {
        "id": "kqjffTGqXJ2c"
      }
    },
    {
      "cell_type": "code",
      "source": [
        "df.head()"
      ],
      "metadata": {
        "colab": {
          "base_uri": "https://localhost:8080/",
          "height": 204
        },
        "id": "oJwVyOs0VKPc",
        "outputId": "a97db2e6-52b2-4fa2-b0b8-0275819baa0e"
      },
      "execution_count": 38,
      "outputs": [
        {
          "output_type": "execute_result",
          "data": {
            "text/plain": [
              "                                                text  rating item_reviewed  \\\n",
              "0  Primark in Sutton Surrey has the rudest… Prima...       1       Primark   \n",
              "1  It would seem I'm not on my own in… It would s...       1       Primark   \n",
              "2  Coercing our tenagers into a untested… Coercin...       1       Primark   \n",
              "3  Recently bought to packs of boxers from… Recen...       1       Primark   \n",
              "4  Very good Competative prices\\n\\nShops are mess...       3       Primark   \n",
              "\n",
              "    publisher date_published  \n",
              "0  trustpilot     2021-12-26  \n",
              "1  trustpilot     2020-10-08  \n",
              "2  trustpilot     2021-08-23  \n",
              "3  trustpilot     2021-08-22  \n",
              "4  trustpilot     2011-09-16  "
            ],
            "text/html": [
              "\n",
              "  <div id=\"df-041ed5da-084c-4f75-a274-6f98b45cd3dd\">\n",
              "    <div class=\"colab-df-container\">\n",
              "      <div>\n",
              "<style scoped>\n",
              "    .dataframe tbody tr th:only-of-type {\n",
              "        vertical-align: middle;\n",
              "    }\n",
              "\n",
              "    .dataframe tbody tr th {\n",
              "        vertical-align: top;\n",
              "    }\n",
              "\n",
              "    .dataframe thead th {\n",
              "        text-align: right;\n",
              "    }\n",
              "</style>\n",
              "<table border=\"1\" class=\"dataframe\">\n",
              "  <thead>\n",
              "    <tr style=\"text-align: right;\">\n",
              "      <th></th>\n",
              "      <th>text</th>\n",
              "      <th>rating</th>\n",
              "      <th>item_reviewed</th>\n",
              "      <th>publisher</th>\n",
              "      <th>date_published</th>\n",
              "    </tr>\n",
              "  </thead>\n",
              "  <tbody>\n",
              "    <tr>\n",
              "      <th>0</th>\n",
              "      <td>Primark in Sutton Surrey has the rudest… Prima...</td>\n",
              "      <td>1</td>\n",
              "      <td>Primark</td>\n",
              "      <td>trustpilot</td>\n",
              "      <td>2021-12-26</td>\n",
              "    </tr>\n",
              "    <tr>\n",
              "      <th>1</th>\n",
              "      <td>It would seem I'm not on my own in… It would s...</td>\n",
              "      <td>1</td>\n",
              "      <td>Primark</td>\n",
              "      <td>trustpilot</td>\n",
              "      <td>2020-10-08</td>\n",
              "    </tr>\n",
              "    <tr>\n",
              "      <th>2</th>\n",
              "      <td>Coercing our tenagers into a untested… Coercin...</td>\n",
              "      <td>1</td>\n",
              "      <td>Primark</td>\n",
              "      <td>trustpilot</td>\n",
              "      <td>2021-08-23</td>\n",
              "    </tr>\n",
              "    <tr>\n",
              "      <th>3</th>\n",
              "      <td>Recently bought to packs of boxers from… Recen...</td>\n",
              "      <td>1</td>\n",
              "      <td>Primark</td>\n",
              "      <td>trustpilot</td>\n",
              "      <td>2021-08-22</td>\n",
              "    </tr>\n",
              "    <tr>\n",
              "      <th>4</th>\n",
              "      <td>Very good Competative prices\\n\\nShops are mess...</td>\n",
              "      <td>3</td>\n",
              "      <td>Primark</td>\n",
              "      <td>trustpilot</td>\n",
              "      <td>2011-09-16</td>\n",
              "    </tr>\n",
              "  </tbody>\n",
              "</table>\n",
              "</div>\n",
              "      <button class=\"colab-df-convert\" onclick=\"convertToInteractive('df-041ed5da-084c-4f75-a274-6f98b45cd3dd')\"\n",
              "              title=\"Convert this dataframe to an interactive table.\"\n",
              "              style=\"display:none;\">\n",
              "        \n",
              "  <svg xmlns=\"http://www.w3.org/2000/svg\" height=\"24px\"viewBox=\"0 0 24 24\"\n",
              "       width=\"24px\">\n",
              "    <path d=\"M0 0h24v24H0V0z\" fill=\"none\"/>\n",
              "    <path d=\"M18.56 5.44l.94 2.06.94-2.06 2.06-.94-2.06-.94-.94-2.06-.94 2.06-2.06.94zm-11 1L8.5 8.5l.94-2.06 2.06-.94-2.06-.94L8.5 2.5l-.94 2.06-2.06.94zm10 10l.94 2.06.94-2.06 2.06-.94-2.06-.94-.94-2.06-.94 2.06-2.06.94z\"/><path d=\"M17.41 7.96l-1.37-1.37c-.4-.4-.92-.59-1.43-.59-.52 0-1.04.2-1.43.59L10.3 9.45l-7.72 7.72c-.78.78-.78 2.05 0 2.83L4 21.41c.39.39.9.59 1.41.59.51 0 1.02-.2 1.41-.59l7.78-7.78 2.81-2.81c.8-.78.8-2.07 0-2.86zM5.41 20L4 18.59l7.72-7.72 1.47 1.35L5.41 20z\"/>\n",
              "  </svg>\n",
              "      </button>\n",
              "      \n",
              "  <style>\n",
              "    .colab-df-container {\n",
              "      display:flex;\n",
              "      flex-wrap:wrap;\n",
              "      gap: 12px;\n",
              "    }\n",
              "\n",
              "    .colab-df-convert {\n",
              "      background-color: #E8F0FE;\n",
              "      border: none;\n",
              "      border-radius: 50%;\n",
              "      cursor: pointer;\n",
              "      display: none;\n",
              "      fill: #1967D2;\n",
              "      height: 32px;\n",
              "      padding: 0 0 0 0;\n",
              "      width: 32px;\n",
              "    }\n",
              "\n",
              "    .colab-df-convert:hover {\n",
              "      background-color: #E2EBFA;\n",
              "      box-shadow: 0px 1px 2px rgba(60, 64, 67, 0.3), 0px 1px 3px 1px rgba(60, 64, 67, 0.15);\n",
              "      fill: #174EA6;\n",
              "    }\n",
              "\n",
              "    [theme=dark] .colab-df-convert {\n",
              "      background-color: #3B4455;\n",
              "      fill: #D2E3FC;\n",
              "    }\n",
              "\n",
              "    [theme=dark] .colab-df-convert:hover {\n",
              "      background-color: #434B5C;\n",
              "      box-shadow: 0px 1px 3px 1px rgba(0, 0, 0, 0.15);\n",
              "      filter: drop-shadow(0px 1px 2px rgba(0, 0, 0, 0.3));\n",
              "      fill: #FFFFFF;\n",
              "    }\n",
              "  </style>\n",
              "\n",
              "      <script>\n",
              "        const buttonEl =\n",
              "          document.querySelector('#df-041ed5da-084c-4f75-a274-6f98b45cd3dd button.colab-df-convert');\n",
              "        buttonEl.style.display =\n",
              "          google.colab.kernel.accessAllowed ? 'block' : 'none';\n",
              "\n",
              "        async function convertToInteractive(key) {\n",
              "          const element = document.querySelector('#df-041ed5da-084c-4f75-a274-6f98b45cd3dd');\n",
              "          const dataTable =\n",
              "            await google.colab.kernel.invokeFunction('convertToInteractive',\n",
              "                                                     [key], {});\n",
              "          if (!dataTable) return;\n",
              "\n",
              "          const docLinkHtml = 'Like what you see? Visit the ' +\n",
              "            '<a target=\"_blank\" href=https://colab.research.google.com/notebooks/data_table.ipynb>data table notebook</a>'\n",
              "            + ' to learn more about interactive tables.';\n",
              "          element.innerHTML = '';\n",
              "          dataTable['output_type'] = 'display_data';\n",
              "          await google.colab.output.renderOutput(dataTable, element);\n",
              "          const docLink = document.createElement('div');\n",
              "          docLink.innerHTML = docLinkHtml;\n",
              "          element.appendChild(docLink);\n",
              "        }\n",
              "      </script>\n",
              "    </div>\n",
              "  </div>\n",
              "  "
            ]
          },
          "metadata": {},
          "execution_count": 38
        }
      ]
    },
    {
      "cell_type": "code",
      "source": [
        "df.info()"
      ],
      "metadata": {
        "colab": {
          "base_uri": "https://localhost:8080/"
        },
        "id": "LUA8CkAiVMXp",
        "outputId": "f7798f1b-8708-46af-ca46-bb67d079ebda"
      },
      "execution_count": 39,
      "outputs": [
        {
          "output_type": "stream",
          "name": "stdout",
          "text": [
            "<class 'pandas.core.frame.DataFrame'>\n",
            "RangeIndex: 1043 entries, 0 to 1042\n",
            "Data columns (total 5 columns):\n",
            " #   Column          Non-Null Count  Dtype         \n",
            "---  ------          --------------  -----         \n",
            " 0   text            1043 non-null   object        \n",
            " 1   rating          1043 non-null   int64         \n",
            " 2   item_reviewed   1043 non-null   object        \n",
            " 3   publisher       1043 non-null   object        \n",
            " 4   date_published  1043 non-null   datetime64[ns]\n",
            "dtypes: datetime64[ns](1), int64(1), object(3)\n",
            "memory usage: 40.9+ KB\n"
          ]
        }
      ]
    },
    {
      "cell_type": "markdown",
      "source": [
        "**Exports the DataFrame to CSV format**"
      ],
      "metadata": {
        "id": "nsude7TJUlVf"
      }
    },
    {
      "cell_type": "code",
      "source": [
        "df.to_csv('/content/customer_reviews_of_the_primark_online_cleaned.csv', index = None, header = True) "
      ],
      "metadata": {
        "id": "R4XUpnsYVj5p"
      },
      "execution_count": 40,
      "outputs": []
    }
  ]
}